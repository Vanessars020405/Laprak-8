{
 "cells": [
  {
   "cell_type": "code",
   "execution_count": 1,
   "metadata": {},
   "outputs": [
    {
     "name": "stdout",
     "output_type": "stream",
     "text": [
      "cynthia cantik \n",
      "arthur jelek\n",
      "Terdapat perbedaan antar kedua text\n"
     ]
    }
   ],
   "source": [
    "#Soal 1\n",
    "file1 =  open ('file1.txt')\n",
    "file2 = open ('file2.txt')\n",
    "hasil1 = file1.read()\n",
    "hasil2 = file2.read()\n",
    "\n",
    "print(hasil1)\n",
    "print (hasil2)\n",
    "\n",
    "perbedaan = []\n",
    "for i, (hasil1, hasil2) in enumerate(zip(hasil1, hasil2)):\n",
    "        if hasil1 != hasil2:\n",
    "            perbedaan = True\n",
    "\n",
    "if perbedaan:\n",
    "    print(\"Terdapat perbedaan antar kedua text\")\n",
    "else:\n",
    "    print(\"Tidak ada perbedaan antar kedua text.\")"
   ]
  },
  {
   "cell_type": "code",
   "execution_count": 1,
   "metadata": {},
   "outputs": [
    {
     "name": "stdout",
     "output_type": "stream",
     "text": [
      "nama file =  soal.txt\n",
      "1+1 =\n",
      "jawaban anda benar\n",
      "\n",
      "Bendera Indonesia?\n",
      "jawaban anda benar\n",
      "\n",
      "Kota gudeg adalah:\n",
      "jawaban anda benar\n",
      "\n",
      "KomponenPC untuk penyimpanan file adalah...\n",
      "jawaban anda benar\n",
      "\n",
      "50 *20 =\n",
      "jawaban anda benar\n",
      "\n"
     ]
    }
   ],
   "source": [
    "#Soal 2\n",
    "namafile = \"soal.txt\"\n",
    "\n",
    "file = open(namafile, 'r')\n",
    "print ('nama file = ', namafile)\n",
    "\n",
    "for line in file:\n",
    "    soal, jawaban = line.strip().split('||')\n",
    "    soal = soal.strip()\n",
    "    jawaban = jawaban.strip()\n",
    "    print(soal)\n",
    "    jawabanuser = input ('jawaban anda = ').strip()\n",
    "    if jawabanuser.lower() == jawaban.lower():\n",
    "        print('jawaban benar')\n",
    "    else:\n",
    "        print('jawaban salah')\n",
    "    print()"
   ]
  }
 ],
 "metadata": {
  "kernelspec": {
   "display_name": "Python 3",
   "language": "python",
   "name": "python3"
  },
  "language_info": {
   "codemirror_mode": {
    "name": "ipython",
    "version": 3
   },
   "file_extension": ".py",
   "mimetype": "text/x-python",
   "name": "python",
   "nbconvert_exporter": "python",
   "pygments_lexer": "ipython3",
   "version": "3.12.0"
  }
 },
 "nbformat": 4,
 "nbformat_minor": 2
}
